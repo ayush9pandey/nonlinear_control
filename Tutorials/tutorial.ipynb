{
 "cells": [
  {
   "cell_type": "code",
   "execution_count": 1,
   "metadata": {},
   "outputs": [],
   "source": [
    "from nonlinear_control import *\n",
    "\n",
    "# Get xdot = f + g u, with parameters if needed. \n",
    "system = ode2sympy(odesize = 8, ninputs = 2, nparams = 24)\n",
    "x = system.x\n",
    "f = system.f\n",
    "g = system.g\n",
    "P = system.P\n",
    "\n",
    "\n",
    "# T1 and A1\n",
    "f[0] = P[0]*(x[2]**2/(P[2]+x[2]**2)) - P[3]*x[0]*x[1] - P[22] * x[0]\n",
    "f[1] = 5*P[4]*(x[3]**2/(P[6]+x[3]**2)) - P[22] * x[1] - P[3]*x[0]*x[1]\n",
    "#  S1 and S2 (scaled with cell count)\n",
    "f[2] = - P[23] * x[2]\n",
    "f[3] = - P[23] * x[3]\n",
    "# f[2] = P[7]*(P[17]**2/(P[9]+P[17]**2))*x[6] - P[23] * x[2]\n",
    "# f[3] = P[10]*(P[19]**2/(P[12]+P[19]**2))*x[7] - P[23] * x[3]\n",
    "#  T2 and A2\n",
    "f[4] = P[4]*(x[3]**2/(P[6]+x[3]**2)) - P[3]*x[4]*x[5] - P[22] * x[4]\n",
    "f[5] = P[0]*(x[2]**2/(P[2]+x[2]**2)) - P[22] * x[5]-P[3]*x[4]*x[5]\n",
    "\n",
    "#  Cell 1 and Cell 2\n",
    "f[6] = P[13]*(1 - (x[6] + x[7])/P[14])*x[6] - P[15]*x[6]*(x[0]/(P[20] + x[0])) - P[21] * x[6]\n",
    "f[7] = P[13]*(1 - (x[6] + x[7])/P[14])*x[7] - P[15]*x[7]*(x[4]/(P[20] + x[4])) - P[21] * x[7]\n",
    "#     return f\n",
    "\n",
    "g1 = g[0]\n",
    "g2 = g[1]\n",
    "\n",
    "g1[0] = 0\n",
    "g1[1] = 0\n",
    "g1[2] = P[7]*x[6] # *u1\n",
    "g1[3] = 0 \n",
    "g1[4] = 0\n",
    "g1[5] = 0 \n",
    "g1[6] = 0 \n",
    "g1[7] = 0\n",
    "\n",
    "g2[0] = 0\n",
    "g2[1] = 0\n",
    "g2[2] = 0\n",
    "g2[3] = P[10]*x[7] # *u2\n",
    "g2[4] = 0\n",
    "g2[5] = 0 \n",
    "g2[6] = 0 \n",
    "g2[7] = 0"
   ]
  },
  {
   "cell_type": "code",
   "execution_count": 2,
   "metadata": {},
   "outputs": [],
   "source": [
    "# Define output \n",
    "h = x[6] + x[7] - 2500\n"
   ]
  },
  {
   "cell_type": "code",
   "execution_count": 4,
   "metadata": {},
   "outputs": [],
   "source": [
    "Lfh = system.getLieDerivative(f,h,1)\n",
    "L3fh = system.getLieDerivative(f,h,3)\n",
    "Lg1h = system.getLieDerivative(g1,h,1)\n"
   ]
  },
  {
   "cell_type": "code",
   "execution_count": 3,
   "metadata": {},
   "outputs": [
    {
     "data": {
      "text/latex": [
       "$$\\boldsymbol{\\mathrm{x_{6}}} + \\boldsymbol{\\mathrm{x_{7}}} - 2500$$"
      ],
      "text/plain": [
       "x₆ + x₇ - 2500"
      ]
     },
     "execution_count": 3,
     "metadata": {},
     "output_type": "execute_result"
    }
   ],
   "source": [
    "h"
   ]
  },
  {
   "cell_type": "code",
   "execution_count": 17,
   "metadata": {},
   "outputs": [
    {
     "data": {
      "text/plain": [
       "list"
      ]
     },
     "execution_count": 17,
     "metadata": {},
     "output_type": "execute_result"
    }
   ],
   "source": [
    "type(system.coord.base_vectors())"
   ]
  },
  {
   "cell_type": "code",
   "execution_count": 9,
   "metadata": {},
   "outputs": [],
   "source": [
    "L2fh = system.getLieDerivative(f,h,2)"
   ]
  },
  {
   "cell_type": "code",
   "execution_count": 10,
   "metadata": {},
   "outputs": [
    {
     "data": {
      "text/latex": [
       "$$\\left(- \\frac{P_{15} \\boldsymbol{\\mathrm{x_{6}}}}{P_{20} + \\boldsymbol{\\mathrm{x_{0}}}} + \\frac{P_{15} \\boldsymbol{\\mathrm{x_{0}}} \\boldsymbol{\\mathrm{x_{6}}}}{\\left(P_{20} + \\boldsymbol{\\mathrm{x_{0}}}\\right)^{2}}\\right) \\left(\\frac{P_{0} \\boldsymbol{\\mathrm{x_{2}}}^{2}}{P_{2} + \\boldsymbol{\\mathrm{x_{2}}}^{2}} - P_{22} \\boldsymbol{\\mathrm{x_{0}}} - P_{3} \\boldsymbol{\\mathrm{x_{0}}} \\boldsymbol{\\mathrm{x_{1}}}\\right) + \\left(- \\frac{P_{15} \\boldsymbol{\\mathrm{x_{7}}}}{P_{20} + \\boldsymbol{\\mathrm{x_{4}}}} + \\frac{P_{15} \\boldsymbol{\\mathrm{x_{4}}} \\boldsymbol{\\mathrm{x_{7}}}}{\\left(P_{20} + \\boldsymbol{\\mathrm{x_{4}}}\\right)^{2}}\\right) \\left(- P_{22} \\boldsymbol{\\mathrm{x_{4}}} - P_{3} \\boldsymbol{\\mathrm{x_{4}}} \\boldsymbol{\\mathrm{x_{5}}} + \\frac{P_{4} \\boldsymbol{\\mathrm{x_{3}}}^{2}}{P_{6} + \\boldsymbol{\\mathrm{x_{3}}}^{2}}\\right) + \\left(P_{13} \\left(1 - \\frac{1}{P_{14}} \\left(\\boldsymbol{\\mathrm{x_{6}}} + \\boldsymbol{\\mathrm{x_{7}}}\\right)\\right) \\boldsymbol{\\mathrm{x_{6}}} - \\frac{P_{15} \\boldsymbol{\\mathrm{x_{0}}} \\boldsymbol{\\mathrm{x_{6}}}}{P_{20} + \\boldsymbol{\\mathrm{x_{0}}}} - P_{21} \\boldsymbol{\\mathrm{x_{6}}}\\right) \\left(P_{13} \\left(1 - \\frac{1}{P_{14}} \\left(\\boldsymbol{\\mathrm{x_{6}}} + \\boldsymbol{\\mathrm{x_{7}}}\\right)\\right) - \\frac{P_{13} \\boldsymbol{\\mathrm{x_{6}}}}{P_{14}} - \\frac{P_{13} \\boldsymbol{\\mathrm{x_{7}}}}{P_{14}} - \\frac{P_{15} \\boldsymbol{\\mathrm{x_{0}}}}{P_{20} + \\boldsymbol{\\mathrm{x_{0}}}} - P_{21}\\right) + \\left(P_{13} \\left(1 - \\frac{1}{P_{14}} \\left(\\boldsymbol{\\mathrm{x_{6}}} + \\boldsymbol{\\mathrm{x_{7}}}\\right)\\right) \\boldsymbol{\\mathrm{x_{7}}} - \\frac{P_{15} \\boldsymbol{\\mathrm{x_{4}}} \\boldsymbol{\\mathrm{x_{7}}}}{P_{20} + \\boldsymbol{\\mathrm{x_{4}}}} - P_{21} \\boldsymbol{\\mathrm{x_{7}}}\\right) \\left(P_{13} \\left(1 - \\frac{1}{P_{14}} \\left(\\boldsymbol{\\mathrm{x_{6}}} + \\boldsymbol{\\mathrm{x_{7}}}\\right)\\right) - \\frac{P_{13} \\boldsymbol{\\mathrm{x_{6}}}}{P_{14}} - \\frac{P_{13} \\boldsymbol{\\mathrm{x_{7}}}}{P_{14}} - \\frac{P_{15} \\boldsymbol{\\mathrm{x_{4}}}}{P_{20} + \\boldsymbol{\\mathrm{x_{4}}}} - P_{21}\\right)$$"
      ],
      "text/plain": [
       "                           ⎛      2                     ⎞                     \n",
       "⎛   P₁₅⋅x₆     P₁₅⋅x₀⋅x₆ ⎞ ⎜ P₀⋅x₂                      ⎟   ⎛   P₁₅⋅x₇     P₁₅\n",
       "⎜- ──────── + ───────────⎟⋅⎜──────── - P₂₂⋅x₀ - P₃⋅x₀⋅x₁⎟ + ⎜- ──────── + ────\n",
       "⎜  P₂₀ + x₀             2⎟ ⎜       2                    ⎟   ⎜  P₂₀ + x₄       \n",
       "⎝             (P₂₀ + x₀) ⎠ ⎝P₂ + x₂                     ⎠   ⎝             (P₂₀\n",
       "\n",
       "         ⎛                           2 ⎞                                      \n",
       "⋅x₄⋅x₇ ⎞ ⎜                      P₄⋅x₃  ⎟   ⎛    ⎛    x₆ + x₇⎞      P₁₅⋅x₀⋅x₆  \n",
       "───────⎟⋅⎜-P₂₂⋅x₄ - P₃⋅x₄⋅x₅ + ────────⎟ + ⎜P₁₃⋅⎜1 - ───────⎟⋅x₆ - ───────── -\n",
       "      2⎟ ⎜                            2⎟   ⎝    ⎝      P₁₄  ⎠       P₂₀ + x₀  \n",
       " + x₄) ⎠ ⎝                     P₆ + x₃ ⎠                                      \n",
       "\n",
       "                                                                              \n",
       "       ⎞ ⎛    ⎛    x₆ + x₇⎞   P₁₃⋅x₆   P₁₃⋅x₇    P₁₅⋅x₀       ⎞   ⎛    ⎛    x₆\n",
       " P₂₁⋅x₆⎟⋅⎜P₁₃⋅⎜1 - ───────⎟ - ────── - ────── - ──────── - P₂₁⎟ + ⎜P₁₃⋅⎜1 - ──\n",
       "       ⎠ ⎝    ⎝      P₁₄  ⎠    P₁₄      P₁₄     P₂₀ + x₀      ⎠   ⎝    ⎝      \n",
       "                                                                              \n",
       "\n",
       "                                                                              \n",
       " + x₇⎞      P₁₅⋅x₄⋅x₇         ⎞ ⎛    ⎛    x₆ + x₇⎞   P₁₃⋅x₆   P₁₃⋅x₇    P₁₅⋅x₄\n",
       "─────⎟⋅x₇ - ───────── - P₂₁⋅x₇⎟⋅⎜P₁₃⋅⎜1 - ───────⎟ - ────── - ────── - ───────\n",
       "P₁₄  ⎠       P₂₀ + x₄         ⎠ ⎝    ⎝      P₁₄  ⎠    P₁₄      P₁₄     P₂₀ + x\n",
       "                                                                              \n",
       "\n",
       "        \n",
       "       ⎞\n",
       "─ - P₂₁⎟\n",
       "₄      ⎠\n",
       "        "
      ]
     },
     "execution_count": 10,
     "metadata": {},
     "output_type": "execute_result"
    }
   ],
   "source": [
    "L2fh"
   ]
  },
  {
   "cell_type": "code",
   "execution_count": null,
   "metadata": {},
   "outputs": [],
   "source": []
  }
 ],
 "metadata": {
  "kernelspec": {
   "display_name": "Python 3",
   "language": "python",
   "name": "python3"
  },
  "language_info": {
   "codemirror_mode": {
    "name": "ipython",
    "version": 3
   },
   "file_extension": ".py",
   "mimetype": "text/x-python",
   "name": "python",
   "nbconvert_exporter": "python",
   "pygments_lexer": "ipython3",
   "version": "3.6.5"
  }
 },
 "nbformat": 4,
 "nbformat_minor": 2
}
