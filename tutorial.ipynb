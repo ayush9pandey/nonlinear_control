{
 "cells": [
  {
   "cell_type": "code",
   "execution_count": 5,
   "metadata": {},
   "outputs": [],
   "source": [
    "from NonlinearControl import *\n",
    "\n",
    "# Get xdot = f + g u, with parameters if needed. \n",
    "system = ode2sympy(odesize = 8, ninputs = 2, nparams = 24)\n",
    "x = system.x\n",
    "f = system.f\n",
    "g = system.g\n",
    "P = system.P\n",
    "\n",
    "\n",
    "# T1 and A1\n",
    "f[0] = P[0]*(x[2]**2/(P[2]+x[2]**2)) - P[3]*x[0]*x[1] - P[22] * x[0]\n",
    "f[1] = 5*P[4]*(x[3]**2/(P[6]+x[3]**2)) - P[22] * x[1] - P[3]*x[0]*x[1]\n",
    "#  S1 and S2 (scaled with cell count)\n",
    "f[2] = - P[23] * x[2]\n",
    "f[3] = - P[23] * x[3]\n",
    "# f[2] = P[7]*(P[17]**2/(P[9]+P[17]**2))*x[6] - P[23] * x[2]\n",
    "# f[3] = P[10]*(P[19]**2/(P[12]+P[19]**2))*x[7] - P[23] * x[3]\n",
    "#  T2 and A2\n",
    "f[4] = P[4]*(x[3]**2/(P[6]+x[3]**2)) - P[3]*x[4]*x[5] - P[22] * x[4]\n",
    "f[5] = P[0]*(x[2]**2/(P[2]+x[2]**2)) - P[22] * x[5]-P[3]*x[4]*x[5]\n",
    "\n",
    "#  Cell 1 and Cell 2\n",
    "f[6] = P[13]*(1 - (x[6] + x[7])/P[14])*x[6] - P[15]*x[6]*(x[0]/(P[20] + x[0])) - P[21] * x[6]\n",
    "f[7] = P[13]*(1 - (x[6] + x[7])/P[14])*x[7] - P[15]*x[7]*(x[4]/(P[20] + x[4])) - P[21] * x[7]\n",
    "#     return f\n",
    "\n",
    "g1 = g[0]\n",
    "g2 = g[1]\n",
    "\n",
    "g1[0] = 0\n",
    "g1[1] = 0\n",
    "g1[2] = P[7]*x[6] # *u1\n",
    "g1[3] = 0 \n",
    "g1[4] = 0\n",
    "g1[5] = 0 \n",
    "g1[6] = 0 \n",
    "g1[7] = 0\n",
    "\n",
    "g2[0] = 0\n",
    "g2[1] = 0\n",
    "g2[2] = 0\n",
    "g2[3] = P[10]*x[7] # *u2\n",
    "g2[4] = 0\n",
    "g2[5] = 0 \n",
    "g2[6] = 0 \n",
    "g2[7] = 0"
   ]
  },
  {
   "cell_type": "code",
   "execution_count": 6,
   "metadata": {},
   "outputs": [],
   "source": [
    "# Define output \n",
    "h = x[6] + x[7] - 2500\n"
   ]
  },
  {
   "cell_type": "code",
   "execution_count": 7,
   "metadata": {},
   "outputs": [
    {
     "data": {
      "text/latex": [
       "$$\\boldsymbol{\\mathrm{x_{6}}} + \\boldsymbol{\\mathrm{x_{7}}} - 2500$$"
      ],
      "text/plain": [
       "x₆ + x₇ - 2500"
      ]
     },
     "execution_count": 7,
     "metadata": {},
     "output_type": "execute_result"
    }
   ],
   "source": [
    "Lfh = system.getLieDerivative(f,h,1)\n",
    "L3fh = system.getLieDerivative(f,h,3)\n",
    "Lg1h = system.getLieDerivative(g1,h,1)\n"
   ]
  },
  {
   "cell_type": "code",
   "execution_count": null,
   "metadata": {},
   "outputs": [],
   "source": []
  },
  {
   "cell_type": "code",
   "execution_count": null,
   "metadata": {},
   "outputs": [],
   "source": []
  },
  {
   "cell_type": "code",
   "execution_count": null,
   "metadata": {},
   "outputs": [],
   "source": []
  },
  {
   "cell_type": "code",
   "execution_count": null,
   "metadata": {},
   "outputs": [],
   "source": []
  }
 ],
 "metadata": {
  "kernelspec": {
   "display_name": "Python 3",
   "language": "python",
   "name": "python3"
  },
  "language_info": {
   "codemirror_mode": {
    "name": "ipython",
    "version": 3
   },
   "file_extension": ".py",
   "mimetype": "text/x-python",
   "name": "python",
   "nbconvert_exporter": "python",
   "pygments_lexer": "ipython3",
   "version": "3.6.5"
  }
 },
 "nbformat": 4,
 "nbformat_minor": 2
}
